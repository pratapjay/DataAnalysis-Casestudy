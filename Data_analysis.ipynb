{
 "cells": [
  {
   "cell_type": "code",
   "execution_count": 1,
   "id": "abba191b",
   "metadata": {
    "_cell_guid": "b1076dfc-b9ad-4769-8c92-a6c4dae69d19",
    "_uuid": "8f2839f25d086af736a60e9eeb907d3b93b6e0e5",
    "execution": {
     "iopub.execute_input": "2025-05-20T19:12:09.221291Z",
     "iopub.status.busy": "2025-05-20T19:12:09.220960Z",
     "iopub.status.idle": "2025-05-20T19:12:09.228003Z",
     "shell.execute_reply": "2025-05-20T19:12:09.227338Z"
    },
    "papermill": {
     "duration": 0.011873,
     "end_time": "2025-05-20T19:12:09.229417",
     "exception": false,
     "start_time": "2025-05-20T19:12:09.217544",
     "status": "completed"
    },
    "tags": []
   },
   "outputs": [],
   "source": [
    "import numpy as np"
   ]
  },
  {
   "cell_type": "code",
   "execution_count": 2,
   "id": "62866f05",
   "metadata": {
    "execution": {
     "iopub.execute_input": "2025-05-20T19:12:09.234774Z",
     "iopub.status.busy": "2025-05-20T19:12:09.234068Z",
     "iopub.status.idle": "2025-05-20T19:12:11.210003Z",
     "shell.execute_reply": "2025-05-20T19:12:11.209113Z"
    },
    "papermill": {
     "duration": 1.980148,
     "end_time": "2025-05-20T19:12:11.211684",
     "exception": false,
     "start_time": "2025-05-20T19:12:09.231536",
     "status": "completed"
    },
    "tags": []
   },
   "outputs": [],
   "source": [
    "import pandas as pd"
   ]
  },
  {
   "cell_type": "code",
   "execution_count": 3,
   "id": "e1b73ff4",
   "metadata": {
    "execution": {
     "iopub.execute_input": "2025-05-20T19:12:11.216637Z",
     "iopub.status.busy": "2025-05-20T19:12:11.216161Z",
     "iopub.status.idle": "2025-05-20T19:12:11.223609Z",
     "shell.execute_reply": "2025-05-20T19:12:11.222753Z"
    },
    "papermill": {
     "duration": 0.011202,
     "end_time": "2025-05-20T19:12:11.224833",
     "exception": false,
     "start_time": "2025-05-20T19:12:11.213631",
     "status": "completed"
    },
    "tags": []
   },
   "outputs": [
    {
     "name": "stdout",
     "output_type": "stream",
     "text": [
      "1D Array: [1 2 3 4 5]\n"
     ]
    }
   ],
   "source": [
    "# Creating a 1D array\n",
    "arr = np.array([1, 2, 3, 4, 5])\n",
    "print(\"1D Array:\", arr)\n"
   ]
  },
  {
   "cell_type": "code",
   "execution_count": 4,
   "id": "6e84333d",
   "metadata": {
    "execution": {
     "iopub.execute_input": "2025-05-20T19:12:11.229914Z",
     "iopub.status.busy": "2025-05-20T19:12:11.229274Z",
     "iopub.status.idle": "2025-05-20T19:12:11.234729Z",
     "shell.execute_reply": "2025-05-20T19:12:11.233680Z"
    },
    "papermill": {
     "duration": 0.009496,
     "end_time": "2025-05-20T19:12:11.236169",
     "exception": false,
     "start_time": "2025-05-20T19:12:11.226673",
     "status": "completed"
    },
    "tags": []
   },
   "outputs": [
    {
     "name": "stdout",
     "output_type": "stream",
     "text": [
      "2D Array:\n",
      " [[1 2 3]\n",
      " [4 5 6]]\n"
     ]
    }
   ],
   "source": [
    "# Creating a 2D array\n",
    "matrix = np.array([[1, 2, 3], [4, 5, 6]])\n",
    "print(\"2D Array:\\n\", matrix)\n"
   ]
  },
  {
   "cell_type": "code",
   "execution_count": 5,
   "id": "67f8b3de",
   "metadata": {
    "execution": {
     "iopub.execute_input": "2025-05-20T19:12:11.240675Z",
     "iopub.status.busy": "2025-05-20T19:12:11.240428Z",
     "iopub.status.idle": "2025-05-20T19:12:11.244973Z",
     "shell.execute_reply": "2025-05-20T19:12:11.244122Z"
    },
    "papermill": {
     "duration": 0.008487,
     "end_time": "2025-05-20T19:12:11.246523",
     "exception": false,
     "start_time": "2025-05-20T19:12:11.238036",
     "status": "completed"
    },
    "tags": []
   },
   "outputs": [
    {
     "name": "stdout",
     "output_type": "stream",
     "text": [
      "Shape: (2, 3)\n",
      "Data Type: int64\n"
     ]
    }
   ],
   "source": [
    "# Shape and type\n",
    "print(\"Shape:\", matrix.shape)\n",
    "print(\"Data Type:\", matrix.dtype)\n"
   ]
  },
  {
   "cell_type": "code",
   "execution_count": null,
   "id": "fcab7e9f",
   "metadata": {
    "papermill": {
     "duration": 0.002755,
     "end_time": "2025-05-20T19:12:11.252319",
     "exception": false,
     "start_time": "2025-05-20T19:12:11.249564",
     "status": "completed"
    },
    "tags": []
   },
   "outputs": [],
   "source": []
  }
 ],
 "metadata": {
  "kaggle": {
   "accelerator": "none",
   "dataSources": [],
   "dockerImageVersionId": 31040,
   "isGpuEnabled": false,
   "isInternetEnabled": true,
   "language": "python",
   "sourceType": "notebook"
  },
  "kernelspec": {
   "display_name": "Python 3",
   "language": "python",
   "name": "python3"
  },
  "language_info": {
   "codemirror_mode": {
    "name": "ipython",
    "version": 3
   },
   "file_extension": ".py",
   "mimetype": "text/x-python",
   "name": "python",
   "nbconvert_exporter": "python",
   "pygments_lexer": "ipython3",
   "version": "3.11.11"
  },
  "papermill": {
   "default_parameters": {},
   "duration": 7.458648,
   "end_time": "2025-05-20T19:12:11.773390",
   "environment_variables": {},
   "exception": null,
   "input_path": "__notebook__.ipynb",
   "output_path": "__notebook__.ipynb",
   "parameters": {},
   "start_time": "2025-05-20T19:12:04.314742",
   "version": "2.6.0"
  }
 },
 "nbformat": 4,
 "nbformat_minor": 5
}
